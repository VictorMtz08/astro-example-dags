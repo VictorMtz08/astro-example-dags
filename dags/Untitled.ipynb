{
 "cells": [
  {
   "cell_type": "code",
   "execution_count": null,
   "id": "875f919a-5bad-4210-9b2e-602285715cc7",
   "metadata": {},
   "outputs": [],
   "source": [
    "client = bigquery.Client(project='zeta-medley-405005')\n",
    "table_id =  \"zeta-medley-405005.dep_raw.order_items\"\n",
    "\n",
    "\n",
    "\n",
    "\n",
    "\n",
    "\n",
    "def load_departments():\n",
    "    print(f\" INICIO LOAD CATEGORIES\")\n",
    "    \n",
    "    dbconnect = get_connect_mongo()\n",
    "    dbname=dbconnect[\"retail_db\"]\n",
    "    collection_name = dbname[\"departments\"] \n",
    "    departments = collection_name.find({})\n",
    "    departments_df = DataFrame(departments)\n",
    "    dbconnect.close()\n",
    "    \n",
    "    departments_df = departments_df.drop(columns=['_id'])\n",
    "    \n",
    "    departments_rows=len(departments_df)\n",
    "    print(f\" Se obtuvo  {departments_rows}  Filas\")\n",
    "\n",
    "    departments_rows=len(departments_df)\n",
    "    \n",
    "    if departments_rows>0 :\n",
    "        client = bigquery.Client(project='zeta-medley-405005')\n",
    "        table_id =  \"zeta-medley-405005.dep_raw.departments\"\n",
    "        \n",
    "        job_config = bigquery.LoadJobConfig(\n",
    "            schema=[\n",
    "                bigquery.SchemaField(\"department_id\", bigquery.enums.SqlTypeNames.INTEGER),\n",
    "                bigquery.SchemaField(\"department_name\", bigquery.enums.SqlTypeNames.STRING)\n",
    "            ],\n",
    "            write_disposition=\"WRITE_TRUNCATE\",\n",
    "        )\n",
    "    \n",
    "    \n",
    "        job = client.load_table_from_dataframe(\n",
    "            departments_df, table_id, job_config=job_config\n",
    "        )  \n",
    "        job.result()  # Wait for the job to complete.\n",
    "    \n",
    "        table = client.get_table(table_id)  # Make an API request.\n",
    "        print(\n",
    "            \"Loaded {} rows and {} columns to {}\".format(\n",
    "                table.num_rows, len(table.schema), table_id\n",
    "            )\n",
    "        )\n",
    "    else : \n",
    "        print('alerta no hay registros en la tabla departments')"
   ]
  }
 ],
 "metadata": {
  "kernelspec": {
   "display_name": "Python 3 (ipykernel)",
   "language": "python",
   "name": "python3"
  },
  "language_info": {
   "codemirror_mode": {
    "name": "ipython",
    "version": 3
   },
   "file_extension": ".py",
   "mimetype": "text/x-python",
   "name": "python",
   "nbconvert_exporter": "python",
   "pygments_lexer": "ipython3",
   "version": "3.9.18"
  }
 },
 "nbformat": 4,
 "nbformat_minor": 5
}
