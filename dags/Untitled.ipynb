{
 "cells": [
  {
   "cell_type": "code",
   "execution_count": null,
   "id": "875f919a-5bad-4210-9b2e-602285715cc7",
   "metadata": {},
   "outputs": [],
   "source": [
    "client = bigquery.Client(project='zeta-medley-405005')\n",
    "table_id =  \"zeta-medley-405005.dep_raw.order_items\"\n",
    "\n",
    "\n",
    "\n",
    "    \n",
    "def load_segmentToMongo():\n",
    "    print(f\" INICIO LOAD SEGMENT_CUSTOMER\")\n",
    "\n",
    "    client = bigquery.Client(project='zeta-medley-405005')\n",
    "    \n",
    "    query_string = \"\"\"\n",
    "    select customer_id,category_name , order_item_subtotal\n",
    "    from `zeta-medley-405005.dep_raw.segment_customer`\n",
    "    \"\"\"\n",
    "    \n",
    "    segment_df = client.query(query_string).to_dataframe()\n",
    "    segment_dict = segment_df.to_dict(orients = 'records')\n",
    "    \n",
    "    dbconnect = get_connect_mongo()\n",
    "    dbname=dbconnect[\"retail_db\"]\n",
    "    collection_name = dbname[\"segment_VictorMartinez\"] \n",
    "    collection_name.insert_many(segment_dict)\n",
    "    dbconnect.close()\n",
    "\n",
    "\n"
   ]
  }
 ],
 "metadata": {
  "kernelspec": {
   "display_name": "Python 3 (ipykernel)",
   "language": "python",
   "name": "python3"
  },
  "language_info": {
   "codemirror_mode": {
    "name": "ipython",
    "version": 3
   },
   "file_extension": ".py",
   "mimetype": "text/x-python",
   "name": "python",
   "nbconvert_exporter": "python",
   "pygments_lexer": "ipython3",
   "version": "3.9.18"
  }
 },
 "nbformat": 4,
 "nbformat_minor": 5
}
