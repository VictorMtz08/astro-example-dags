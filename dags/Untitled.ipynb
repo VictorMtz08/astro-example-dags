{
 "cells": [
  {
   "cell_type": "code",
   "execution_count": null,
   "id": "875f919a-5bad-4210-9b2e-602285715cc7",
   "metadata": {},
   "outputs": [],
   "source": [
    "client = bigquery.Client(project='zeta-medley-405005')\n",
    "table_id =  \"zeta-medley-405005.dep_raw.order_items\"\n",
    "\n",
    "\n",
    "\n",
    "    \n",
    "def load_bi_orders():\n",
    "    print(f\" INICIO LOAD SEGMENT_CUSTOMER\")\n",
    "\n",
    "    client = bigquery.Client(project='zeta-medley-405005')\n",
    "    \n",
    "    query_string = \"\"\"\n",
    "    create or replace table `zeta-medley-405005.dep_raw.segment_customer` as\n",
    "    select customer_id,category_name , order_item_subtotal from\n",
    "    (\n",
    "      SELECT customer_id,category_name,order_item_subtotal,\n",
    "      RANK() OVER (PARTITION BY customer_id ORDER BY order_item_subtotal DESC) AS rank_ \n",
    "     FROM (\n",
    "          SELECT \n",
    "          d.customer_id ,c.category_name \n",
    "          , sum (a.order_item_subtotal) order_item_subtotal\n",
    "          FROM `zeta-medley-405005.dep_raw.master_order` a\n",
    "          inner join  `zeta-medley-405005-410714.dep_raw.products` b on\n",
    "          a.order_item_product_id=b.product_id\n",
    "          inner join `zeta-medley-405005.dep_raw.categories` c on\n",
    "          b.product_category_id=c.category_id\n",
    "          inner join `zeta-medley-405005.dep_raw.customers` d on\n",
    "          a.order_customer_id=d.customer_id\n",
    "          group by 1,2\n",
    "      )\n",
    "    )\n",
    "    where rank_=1\n",
    "    \"\"\"\n",
    "\n",
    "    query_job = client.query(query_string)\n",
    "    rows = list(query_job.result())\n",
    "    print(f\" Se obtuvo  {rows}  Filas\")\n",
    "\n",
    "\n"
   ]
  }
 ],
 "metadata": {
  "kernelspec": {
   "display_name": "Python 3 (ipykernel)",
   "language": "python",
   "name": "python3"
  },
  "language_info": {
   "codemirror_mode": {
    "name": "ipython",
    "version": 3
   },
   "file_extension": ".py",
   "mimetype": "text/x-python",
   "name": "python",
   "nbconvert_exporter": "python",
   "pygments_lexer": "ipython3",
   "version": "3.9.18"
  }
 },
 "nbformat": 4,
 "nbformat_minor": 5
}
