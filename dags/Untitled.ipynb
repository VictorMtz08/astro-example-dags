{
 "cells": [
  {
   "cell_type": "code",
   "execution_count": null,
   "id": "875f919a-5bad-4210-9b2e-602285715cc7",
   "metadata": {},
   "outputs": [],
   "source": [
    "client = bigquery.Client(project='zeta-medley-405005')\n",
    "table_id =  \"zeta-medley-405005.dep_raw.order_items\"\n",
    "\n",
    "\n",
    "\n",
    "    \n",
    "\n",
    "def load_bi_orders():\n",
    "    print(f\" INICIO LOAD BI_ORDERS\")\n",
    "\n",
    "    client = bigquery.Client(project='zeta-medley-405005')\n",
    "    \n",
    "    query_string = \"\"\"\n",
    "    create or replace table `zeta-medley-405005.dep_raw.bi_orders` as\n",
    "    SELECT \n",
    "     order_date,c.category_name ,d.department_name \n",
    "     , sum (a.order_item_subtotal) order_item_subtotal\n",
    "     , sum (a.order_item_quantity) order_item_quantity\n",
    "    FROM `zeta-medley-405005.dep_raw.master_order` a\n",
    "    inner join  `zeta-medley-405005.dep_raw.products` b on\n",
    "    a.order_item_product_id=b.product_id\n",
    "    inner join `zeta-medley-405005.dep_raw.categories` c on\n",
    "    b.product_category_id=c.category_id\n",
    "    inner join `zeta-medley-405005.dep_raw.departments` d on\n",
    "    c.category_department_id=d.department_id\n",
    "    group by order_date,c.category_name ,d.department_name\n",
    "    \"\"\"\n",
    "    \n",
    "    m_order_items_df = client.query(sql).to_dataframe()\n",
    "\n",
    "    query_job = client.query(query_string)\n",
    "    \n",
    "\n",
    "\n",
    "\n",
    "\n",
    "\n"
   ]
  }
 ],
 "metadata": {
  "kernelspec": {
   "display_name": "Python 3 (ipykernel)",
   "language": "python",
   "name": "python3"
  },
  "language_info": {
   "codemirror_mode": {
    "name": "ipython",
    "version": 3
   },
   "file_extension": ".py",
   "mimetype": "text/x-python",
   "name": "python",
   "nbconvert_exporter": "python",
   "pygments_lexer": "ipython3",
   "version": "3.9.18"
  }
 },
 "nbformat": 4,
 "nbformat_minor": 5
}
