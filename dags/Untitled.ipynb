{
 "cells": [
  {
   "cell_type": "code",
   "execution_count": null,
   "id": "875f919a-5bad-4210-9b2e-602285715cc7",
   "metadata": {},
   "outputs": [],
   "source": [
    "\n",
    "def transform_date(text):\n",
    "    text = str(text)\n",
    "    d = text[0:10]\n",
    "    return d\n",
    "\n",
    "\n",
    "\n",
    "def load_orders():\n",
    "    print(f\" INICIO LOAD ORDER ITEMS\")\n",
    "    dbconnect = get_connect_mongo()\n",
    "    dbname=dbconnect[\"retail_db\"]\n",
    "    collection_name = dbname[\"order_items\"] \n",
    "    products = collection_name.find({})\n",
    "    products_df = DataFrame(orders)\n",
    "    dbconnect.close()\n",
    "    orders_df['_id'] = orders_df['_id'].astype(str)\n",
    "    orders_df['order_date']  = orders_df['order_date'].map(transform_date)\n",
    "    orders_df['order_date'] = pd.to_datetime(orders_df['order_date'], format='%Y-%m-%d').dt.date\n",
    "    orders_rows=len(orders_df)\n",
    "    print(f\" Se obtuvo  {orders_rows}  Filas\")\n",
    "    orders_rows=len(orders_df)\n",
    "    if orders_rows>0 :\n",
    "        client = bigquery.Client()\n",
    "    \n",
    "        table_id =  \"premium-guide-410714.dep_raw.orders\"\n",
    "        job_config = bigquery.LoadJobConfig(\n",
    "            schema=[\n",
    "                bigquery.SchemaField(\"_id\", bigquery.enums.SqlTypeNames.STRING),\n",
    "                bigquery.SchemaField(\"order_id\", bigquery.enums.SqlTypeNames.INTEGER),\n",
    "                bigquery.SchemaField(\"order_date\", bigquery.enums.SqlTypeNames.DATE),\n",
    "                bigquery.SchemaField(\"order_customer_id\", bigquery.enums.SqlTypeNames.INTEGER),\n",
    "                bigquery.SchemaField(\"order_status\", bigquery.enums.SqlTypeNames.STRING),\n",
    "            ],\n",
    "            write_disposition=\"WRITE_TRUNCATE\",\n",
    "        )\n",
    "    \n",
    "    \n",
    "        job = client.load_table_from_dataframe(\n",
    "            orders_df, table_id, job_config=job_config\n",
    "        )  \n",
    "        job.result()  # Wait for the job to complete.\n",
    "    \n",
    "        table = client.get_table(table_id)  # Make an API request.\n",
    "        print(\n",
    "            \"Loaded {} rows and {} columns to {}\".format(\n",
    "                table.num_rows, len(table.schema), table_id\n",
    "            )\n",
    "        )\n",
    "    else : \n",
    "        print('alerta no hay registros en la tabla orders')"
   ]
  }
 ],
 "metadata": {
  "kernelspec": {
   "display_name": "Python 3 (ipykernel)",
   "language": "python",
   "name": "python3"
  },
  "language_info": {
   "codemirror_mode": {
    "name": "ipython",
    "version": 3
   },
   "file_extension": ".py",
   "mimetype": "text/x-python",
   "name": "python",
   "nbconvert_exporter": "python",
   "pygments_lexer": "ipython3",
   "version": "3.9.18"
  }
 },
 "nbformat": 4,
 "nbformat_minor": 5
}
